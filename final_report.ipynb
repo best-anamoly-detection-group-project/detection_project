{
 "cells": [
  {
   "cell_type": "markdown",
   "id": "52c30882",
   "metadata": {},
   "source": [
    "# Codeup Curriculum Anomaly Detection \n",
    "\n",
    "__Team:__ Daniel Ford, Joshua Mayes, Jared Angel"
   ]
  },
  {
   "cell_type": "code",
   "execution_count": 3,
   "id": "ecf75524",
   "metadata": {},
   "outputs": [],
   "source": [
    "import matplotlib.pyplot as plt\n",
    "import numpy as np\n",
    "import pandas as pd\n",
    "import seaborn as sns\n",
    "from sklearn import metrics\n",
    "from env import host, user, password, get_db_url\n",
    "\n",
    "import acquire as aq\n",
    "import prepare as pp\n",
    "import warnings\n",
    "warnings.filterwarnings('ignore')\n",
    "import datetime"
   ]
  },
  {
   "cell_type": "markdown",
   "id": "9a31e069",
   "metadata": {},
   "source": [
    "# Acquire and Clean"
   ]
  },
  {
   "cell_type": "code",
   "execution_count": 2,
   "id": "877cc9a2",
   "metadata": {},
   "outputs": [
    {
     "data": {
      "text/html": [
       "<div>\n",
       "<style scoped>\n",
       "    .dataframe tbody tr th:only-of-type {\n",
       "        vertical-align: middle;\n",
       "    }\n",
       "\n",
       "    .dataframe tbody tr th {\n",
       "        vertical-align: top;\n",
       "    }\n",
       "\n",
       "    .dataframe thead th {\n",
       "        text-align: right;\n",
       "    }\n",
       "</style>\n",
       "<table border=\"1\" class=\"dataframe\">\n",
       "  <thead>\n",
       "    <tr style=\"text-align: right;\">\n",
       "      <th></th>\n",
       "      <th>endpoint</th>\n",
       "      <th>user_id</th>\n",
       "      <th>cohort_id</th>\n",
       "      <th>cohort_name</th>\n",
       "      <th>slack</th>\n",
       "      <th>start_date</th>\n",
       "      <th>end_date</th>\n",
       "      <th>program_id</th>\n",
       "      <th>program</th>\n",
       "      <th>module</th>\n",
       "      <th>lesson</th>\n",
       "    </tr>\n",
       "    <tr>\n",
       "      <th>datetime</th>\n",
       "      <th></th>\n",
       "      <th></th>\n",
       "      <th></th>\n",
       "      <th></th>\n",
       "      <th></th>\n",
       "      <th></th>\n",
       "      <th></th>\n",
       "      <th></th>\n",
       "      <th></th>\n",
       "      <th></th>\n",
       "      <th></th>\n",
       "    </tr>\n",
       "  </thead>\n",
       "  <tbody>\n",
       "    <tr>\n",
       "      <th>2018-01-26 09:55:03</th>\n",
       "      <td>/</td>\n",
       "      <td>1</td>\n",
       "      <td>8.0</td>\n",
       "      <td>Hampton</td>\n",
       "      <td>#hampton</td>\n",
       "      <td>2015-09-22 00:00:00</td>\n",
       "      <td>2016-02-06 00:00:00</td>\n",
       "      <td>1</td>\n",
       "      <td>Full Stack PHP</td>\n",
       "      <td>None</td>\n",
       "      <td>None</td>\n",
       "    </tr>\n",
       "    <tr>\n",
       "      <th>2018-01-26 09:56:02</th>\n",
       "      <td>java-ii</td>\n",
       "      <td>1</td>\n",
       "      <td>8.0</td>\n",
       "      <td>Hampton</td>\n",
       "      <td>#hampton</td>\n",
       "      <td>2015-09-22 00:00:00</td>\n",
       "      <td>2016-02-06 00:00:00</td>\n",
       "      <td>1</td>\n",
       "      <td>Full Stack PHP</td>\n",
       "      <td>java-ii</td>\n",
       "      <td>None</td>\n",
       "    </tr>\n",
       "    <tr>\n",
       "      <th>2018-01-26 09:56:05</th>\n",
       "      <td>java-ii/object-oriented-programming</td>\n",
       "      <td>1</td>\n",
       "      <td>8.0</td>\n",
       "      <td>Hampton</td>\n",
       "      <td>#hampton</td>\n",
       "      <td>2015-09-22 00:00:00</td>\n",
       "      <td>2016-02-06 00:00:00</td>\n",
       "      <td>1</td>\n",
       "      <td>Full Stack PHP</td>\n",
       "      <td>java-ii</td>\n",
       "      <td>object-oriented-programming</td>\n",
       "    </tr>\n",
       "  </tbody>\n",
       "</table>\n",
       "</div>"
      ],
      "text/plain": [
       "                                                endpoint  user_id  cohort_id  \\\n",
       "datetime                                                                       \n",
       "2018-01-26 09:55:03                                    /        1        8.0   \n",
       "2018-01-26 09:56:02                              java-ii        1        8.0   \n",
       "2018-01-26 09:56:05  java-ii/object-oriented-programming        1        8.0   \n",
       "\n",
       "                    cohort_name     slack           start_date  \\\n",
       "datetime                                                         \n",
       "2018-01-26 09:55:03     Hampton  #hampton  2015-09-22 00:00:00   \n",
       "2018-01-26 09:56:02     Hampton  #hampton  2015-09-22 00:00:00   \n",
       "2018-01-26 09:56:05     Hampton  #hampton  2015-09-22 00:00:00   \n",
       "\n",
       "                                end_date  program_id         program   module  \\\n",
       "datetime                                                                        \n",
       "2018-01-26 09:55:03  2016-02-06 00:00:00           1  Full Stack PHP     None   \n",
       "2018-01-26 09:56:02  2016-02-06 00:00:00           1  Full Stack PHP  java-ii   \n",
       "2018-01-26 09:56:05  2016-02-06 00:00:00           1  Full Stack PHP  java-ii   \n",
       "\n",
       "                                          lesson  \n",
       "datetime                                          \n",
       "2018-01-26 09:55:03                         None  \n",
       "2018-01-26 09:56:02                         None  \n",
       "2018-01-26 09:56:05  object-oriented-programming  "
      ]
     },
     "execution_count": 2,
     "metadata": {},
     "output_type": "execute_result"
    }
   ],
   "source": [
    "df = aq.wrangle_data()\n",
    "df.head(3)"
   ]
  },
  {
   "cell_type": "markdown",
   "id": "0608cee2",
   "metadata": {},
   "source": [
    "### This Data was collected From the curriculum logs database on the codeup server\n",
    "\n",
    "### this data contains: 847,329 observations under 11 categories\n",
    "\n",
    "#### for cleaning we:\n",
    "   - Converted select data types\n",
    "   - Changed Index to Datetime\n",
    "   - Streamlined select names\n",
    "   - drrop unnecessary or duplicate columns\n",
    "   \n",
    "\n"
   ]
  },
  {
   "cell_type": "markdown",
   "id": "d0c8e876",
   "metadata": {},
   "source": [
    "### 1. Which lesson appears to attract the most traffic consistently across cohorts (per program)? and 7. Which lessons are least accessed?"
   ]
  },
  {
   "cell_type": "markdown",
   "id": "b2d155a7",
   "metadata": {},
   "source": [
    "Starting with data science program first"
   ]
  },
  {
   "cell_type": "code",
   "execution_count": null,
   "id": "8c7d59c2",
   "metadata": {},
   "outputs": [],
   "source": [
    "# Eliminating the index homepage from lessons\n",
    "trimmed = df[df.endpoint != '/']"
   ]
  },
  {
   "cell_type": "code",
   "execution_count": null,
   "id": "50e7305b",
   "metadata": {},
   "outputs": [],
   "source": [
    "#Making a dataframe for just data science students\n",
    "datascience = trimmed.loc[trimmed.program_id == 3]"
   ]
  },
  {
   "cell_type": "code",
   "execution_count": null,
   "id": "3d08286e",
   "metadata": {},
   "outputs": [],
   "source": [
    "# Making dataframe grouped by cohort and lessons. Setting to descending order\n",
    "ds_df = datascience.groupby('cohort_name').lesson.value_counts()\n",
    "ds_df = ds_df.rename('total').reset_index()"
   ]
  },
  {
   "cell_type": "code",
   "execution_count": null,
   "id": "8d2aacf7",
   "metadata": {},
   "outputs": [],
   "source": [
    "#Creating a for loop to run through each cohort and get most popular and least popular lessons, adding to dictionary\n",
    "ds_cohorts = ds_df.cohort_name.unique()\n",
    "most_common_ds = {}\n",
    "lest_com_ds = {}\n",
    "for cohort in ds_cohorts:\n",
    "    pop_lesson_ds = ds_df.loc[ds_df.cohort_name == cohort].lesson.iloc[0]\n",
    "    no_lesson_ds = ds_df.loc[ds_df.cohort_name == cohort].lesson.iloc[-1]\n",
    "    most_common_ds.update({cohort: pop_lesson_ds})\n",
    "    lest_com_ds.update({cohort : no_lesson_ds})"
   ]
  },
  {
   "cell_type": "code",
   "execution_count": null,
   "id": "44e1275d",
   "metadata": {},
   "outputs": [],
   "source": [
    "# Making the dataframe from dictionary and renaming cols\n",
    "most_com_ds = pd.DataFrame.from_dict(most_common_ds, orient='index')\n",
    "most_com_ds.head()\n",
    "most_com_ds.rename(columns = {'':'Cohort', 0:'Most Popular'}, inplace=True)"
   ]
  },
  {
   "cell_type": "code",
   "execution_count": null,
   "id": "7980dabc",
   "metadata": {},
   "outputs": [],
   "source": [
    "# Making dataframe for least popular lessons\n",
    "lest_com_ds = pd.DataFrame.from_dict(lest_com_ds, orient='index')\n",
    "lest_com_ds.head()\n",
    "lest_com_ds.rename(columns = {'':'Cohort', 0:'less Popular'}, inplace=True)"
   ]
  },
  {
   "cell_type": "code",
   "execution_count": null,
   "id": "de7b1c33",
   "metadata": {},
   "outputs": [],
   "source": [
    "# concatenating most and least along rows\n",
    "ds_most_least = pd.concat([most_com_ds, lest_com_ds], axis=1)"
   ]
  },
  {
   "cell_type": "code",
   "execution_count": null,
   "id": "15020551",
   "metadata": {},
   "outputs": [],
   "source": [
    "ds_most_least"
   ]
  },
  {
   "cell_type": "markdown",
   "id": "5fbba74d",
   "metadata": {},
   "source": [
    "Take aways:\n",
    "-    The module 1 overview lesson accounted for 80% of the top lesson per cohort.\n",
    "-    The least popular lesson was different for each cohort. However, opensecrets.org seems to be a counted as a lesson and could be wronly labeled"
   ]
  },
  {
   "cell_type": "markdown",
   "id": "6ef17366",
   "metadata": {},
   "source": [
    "Full Stack PHP Program analysis"
   ]
  },
  {
   "cell_type": "code",
   "execution_count": null,
   "id": "cb6ea0d9",
   "metadata": {},
   "outputs": [],
   "source": [
    "# Making df for just php program\n",
    "PHPstack = trimmed.loc[trimmed.program_id == 1]"
   ]
  },
  {
   "cell_type": "code",
   "execution_count": null,
   "id": "39ad8161",
   "metadata": {},
   "outputs": [],
   "source": [
    "# Re arranging the data by cohort and lessons\n",
    "PHP_df = PHPstack.groupby('cohort_name').lesson.value_counts()\n",
    "PHP_df = PHP_df.rename('total').reset_index()"
   ]
  },
  {
   "cell_type": "code",
   "execution_count": null,
   "id": "8829d797",
   "metadata": {},
   "outputs": [],
   "source": [
    "#Creating a for loop to run through each cohort and get most popular and least popular lessons, adding to dictionary\n",
    "cohorts = PHP_df.cohort_name.unique()\n",
    "lest_comm_php = {}\n",
    "most_common_php = {}\n",
    "for cohort in cohorts:\n",
    "    lesson = PHP_df.loc[PHP_df.cohort_name == cohort].lesson.iloc[0]\n",
    "    most_common_php.update({cohort: lesson})\n",
    "    less_lesson_php = PHP_df.loc[PHP_df.cohort_name == cohort].lesson.iloc[-1]\n",
    "    lest_comm_php.update({cohort : less_lesson_php})"
   ]
  },
  {
   "cell_type": "code",
   "execution_count": null,
   "id": "91ab8d94",
   "metadata": {},
   "outputs": [],
   "source": [
    "#making most popular df\n",
    "most_com_PHP = pd.DataFrame.from_dict(most_common_php, orient='index')\n",
    "most_com_PHP.head()\n",
    "most_com_PHP.rename(columns = {'':'Cohort', 0:'Most Popular'}, inplace=True)"
   ]
  },
  {
   "cell_type": "code",
   "execution_count": null,
   "id": "eb1943c7",
   "metadata": {},
   "outputs": [],
   "source": [
    "#Making least popular df\n",
    "lest_com_PHP = pd.DataFrame.from_dict(lest_comm_php, orient='index')\n",
    "\n",
    "lest_com_PHP.rename(columns = {'':'Cohort', 0:'Least Popular'}, inplace=True)"
   ]
  },
  {
   "cell_type": "code",
   "execution_count": null,
   "id": "183bb728",
   "metadata": {},
   "outputs": [],
   "source": [
    "# concatenating df1 and df2 along rows\n",
    "php_most_least = pd.concat([most_com_PHP, lest_com_PHP], axis=1)"
   ]
  },
  {
   "cell_type": "code",
   "execution_count": null,
   "id": "6e226195",
   "metadata": {},
   "outputs": [],
   "source": [
    "php_most_least"
   ]
  },
  {
   "cell_type": "markdown",
   "id": "fbb9421f",
   "metadata": {},
   "source": [
    "Take aways:\n",
    "- The most common overall lesson for the full stack java program is the fundamentals lesson.\n",
    "- The least most common overall are work-in-teams and syntax-types-and-variables"
   ]
  },
  {
   "cell_type": "markdown",
   "id": "619891fb",
   "metadata": {},
   "source": [
    "Full stack java program"
   ]
  },
  {
   "cell_type": "code",
   "execution_count": null,
   "id": "87a5850a",
   "metadata": {},
   "outputs": [],
   "source": [
    "# df just for java program\n",
    "JAVAstack = trimmed.loc[trimmed.program_id == 2]"
   ]
  },
  {
   "cell_type": "code",
   "execution_count": null,
   "id": "20eca81c",
   "metadata": {},
   "outputs": [],
   "source": [
    "#Rearrange the java df\n",
    "java_df = JAVAstack.groupby('cohort_name').lesson.value_counts()"
   ]
  },
  {
   "cell_type": "code",
   "execution_count": null,
   "id": "dbefb927",
   "metadata": {},
   "outputs": [],
   "source": [
    "# Reset index\n",
    "java_df = java_df.rename('total').reset_index()"
   ]
  },
  {
   "cell_type": "code",
   "execution_count": null,
   "id": "28f13c5a",
   "metadata": {},
   "outputs": [],
   "source": [
    "# making list of cohort names\n",
    "j_cohorts = java_df.cohort_name.unique()"
   ]
  },
  {
   "cell_type": "code",
   "execution_count": null,
   "id": "a8be7d62",
   "metadata": {},
   "outputs": [],
   "source": [
    "#Creating a for loop to run through each cohort and get most popular and least popular lessons, adding to dictionary\n",
    "lest_com_j = {}\n",
    "most_common_j = {}\n",
    "for cohort in j_cohorts:\n",
    "    lesson_j = java_df.loc[java_df.cohort_name == cohort].lesson.iloc[0]\n",
    "    lest_lesson_j = java_df.loc[java_df.cohort_name == cohort].lesson.iloc[-1]\n",
    "    most_common_j.update({cohort: lesson_j})\n",
    "    lest_com_j.update({cohort : lest_lesson_j})"
   ]
  },
  {
   "cell_type": "code",
   "execution_count": null,
   "id": "78ebaac5",
   "metadata": {},
   "outputs": [],
   "source": [
    "# Making most common df\n",
    "most_common_java = pd.DataFrame.from_dict(most_common_j, orient='index')\n",
    "most_common_java.rename(columns = {'':'Cohort', 0:'Most Popular'}, inplace=True)"
   ]
  },
  {
   "cell_type": "code",
   "execution_count": null,
   "id": "2749a657",
   "metadata": {},
   "outputs": [],
   "source": [
    "#making least common df\n",
    "lest_com_java = pd.DataFrame.from_dict(lest_com_j, orient='index')\n",
    "lest_com_java.rename(columns = {'':'Cohort', 0:'Least Popular'}, inplace=True)"
   ]
  },
  {
   "cell_type": "code",
   "execution_count": null,
   "id": "5324f10b",
   "metadata": {},
   "outputs": [],
   "source": [
    "# concatenating df1 and df2 along rows\n",
    "java_most_least = pd.concat([most_common_java, lest_com_java], axis=1)"
   ]
  },
  {
   "cell_type": "code",
   "execution_count": null,
   "id": "a8716f3b",
   "metadata": {},
   "outputs": [],
   "source": [
    "java_most_least"
   ]
  },
  {
   "cell_type": "markdown",
   "id": "d2629893",
   "metadata": {},
   "source": [
    "Take aways:\n",
    "-   The most common lessons for the full stack java program are fundamentals and introduction\n",
    "-   The lest most common lessones are whack-a-mole and workbook"
   ]
  },
  {
   "cell_type": "markdown",
   "id": "9855bbe8",
   "metadata": {},
   "source": [
    "Frontend program"
   ]
  },
  {
   "cell_type": "code",
   "execution_count": null,
   "id": "6c5c2b6f",
   "metadata": {},
   "outputs": [],
   "source": [
    "#Making front end df\n",
    "Frontend = trimmed.loc[trimmed.program_id == 4]"
   ]
  },
  {
   "cell_type": "code",
   "execution_count": null,
   "id": "bb24c801",
   "metadata": {},
   "outputs": [],
   "source": [
    "# sorting by cohort and lesson\n",
    "fe_df = Frontend.groupby('cohort_name').lesson.value_counts()"
   ]
  },
  {
   "cell_type": "code",
   "execution_count": null,
   "id": "e9790560",
   "metadata": {},
   "outputs": [],
   "source": [
    "fe_df"
   ]
  },
  {
   "cell_type": "markdown",
   "id": "3d0f7c25",
   "metadata": {},
   "source": [
    "Take away:\n",
    "-   The data is only available for one cohort and the data only shows the html-css lesson\n",
    "-   Could not determine most and least from current data"
   ]
  },
  {
   "cell_type": "markdown",
   "id": "a46dba84",
   "metadata": {},
   "source": [
    "### 2. Is there a cohort that referred to a lesson significantly more than other cohorts seemed to gloss over?"
   ]
  },
  {
   "cell_type": "code",
   "execution_count": null,
   "id": "1701db64",
   "metadata": {},
   "outputs": [],
   "source": [
    "\n"
   ]
  },
  {
   "cell_type": "code",
   "execution_count": null,
   "id": "33514b9d",
   "metadata": {},
   "outputs": [],
   "source": []
  },
  {
   "cell_type": "markdown",
   "id": "4850fc7c",
   "metadata": {},
   "source": [
    "### 3. Are there students who, when active, hardly access the curriculum? \n",
    "\n",
    "### If so, what information do you have about these students?"
   ]
  },
  {
   "cell_type": "code",
   "execution_count": 4,
   "id": "50443a29",
   "metadata": {},
   "outputs": [],
   "source": [
    "students = pp.filter_students(df)"
   ]
  },
  {
   "cell_type": "code",
   "execution_count": 6,
   "id": "3107fa40",
   "metadata": {
    "scrolled": true
   },
   "outputs": [
    {
     "data": {
      "text/html": [
       "<div>\n",
       "<style scoped>\n",
       "    .dataframe tbody tr th:only-of-type {\n",
       "        vertical-align: middle;\n",
       "    }\n",
       "\n",
       "    .dataframe tbody tr th {\n",
       "        vertical-align: top;\n",
       "    }\n",
       "\n",
       "    .dataframe thead th {\n",
       "        text-align: right;\n",
       "    }\n",
       "</style>\n",
       "<table border=\"1\" class=\"dataframe\">\n",
       "  <thead>\n",
       "    <tr style=\"text-align: right;\">\n",
       "      <th></th>\n",
       "      <th>endpoint</th>\n",
       "      <th>user_id</th>\n",
       "      <th>cohort_id</th>\n",
       "      <th>cohort_name</th>\n",
       "      <th>slack</th>\n",
       "      <th>start_date</th>\n",
       "      <th>end_date</th>\n",
       "      <th>program_id</th>\n",
       "      <th>program</th>\n",
       "      <th>module</th>\n",
       "      <th>lesson</th>\n",
       "      <th>date_mask</th>\n",
       "    </tr>\n",
       "    <tr>\n",
       "      <th>datetime</th>\n",
       "      <th></th>\n",
       "      <th></th>\n",
       "      <th></th>\n",
       "      <th></th>\n",
       "      <th></th>\n",
       "      <th></th>\n",
       "      <th></th>\n",
       "      <th></th>\n",
       "      <th></th>\n",
       "      <th></th>\n",
       "      <th></th>\n",
       "      <th></th>\n",
       "    </tr>\n",
       "  </thead>\n",
       "  <tbody>\n",
       "    <tr>\n",
       "      <th>2019-11-04 16:54:38</th>\n",
       "      <td>html-css/introduction</td>\n",
       "      <td>539.0</td>\n",
       "      <td>52.0</td>\n",
       "      <td>Europa</td>\n",
       "      <td>#europa</td>\n",
       "      <td>2019-11-04 00:00:00</td>\n",
       "      <td>2020-04-17 00:00:00</td>\n",
       "      <td>2.0</td>\n",
       "      <td>Full Stack Java</td>\n",
       "      <td>html-css</td>\n",
       "      <td>introduction</td>\n",
       "      <td>True</td>\n",
       "    </tr>\n",
       "  </tbody>\n",
       "</table>\n",
       "</div>"
      ],
      "text/plain": [
       "                                  endpoint  user_id  cohort_id cohort_name  \\\n",
       "datetime                                                                     \n",
       "2019-11-04 16:54:38  html-css/introduction    539.0       52.0      Europa   \n",
       "\n",
       "                       slack           start_date             end_date  \\\n",
       "datetime                                                                 \n",
       "2019-11-04 16:54:38  #europa  2019-11-04 00:00:00  2020-04-17 00:00:00   \n",
       "\n",
       "                     program_id          program    module        lesson  \\\n",
       "datetime                                                                   \n",
       "2019-11-04 16:54:38         2.0  Full Stack Java  html-css  introduction   \n",
       "\n",
       "                    date_mask  \n",
       "datetime                       \n",
       "2019-11-04 16:54:38      True  "
      ]
     },
     "execution_count": 6,
     "metadata": {},
     "output_type": "execute_result"
    }
   ],
   "source": [
    "students.head(1)"
   ]
  },
  {
   "cell_type": "markdown",
   "id": "a63e82b4",
   "metadata": {},
   "source": [
    "# Takeaways:\n",
    "   \n",
    "   - The User IDs of students that accessed the curriculum the least are\n",
    "       - 679.0\n",
    "       - 812.0\n",
    "       - 941.0\n",
    "       - 956.0\n",
    "       - 539.0\n",
    "       - 572.0\n",
    "   \n",
    "   \n",
    "   - 6 students respectively accessed the data less than 10 times while enrolled at codeup\n",
    "       - of those 6 students: - \n",
    "           - 1 was enrolled in Data Science\n",
    "           - 5 were enrolled in Full Stack Java\n",
    "       - the Data Science student accessed the curriculum 10 times\n",
    "       - the FS JAVA accessed the curriculum 20 times, with a median of 3\n",
    "       \n",
    "       \n",
    "   - the least accessed modules were: \n",
    "       - Data Science; advanced topics \n",
    "       - FS JAVA; appendix"
   ]
  },
  {
   "cell_type": "markdown",
   "id": "a81e5883",
   "metadata": {},
   "source": [
    "### 4. Is there any suspicious activity, such as users/machines/etc accessing the curriculum who shouldn’t be? \n",
    "\n",
    "### Does it appear that any web-scraping is happening? \n",
    "\n",
    "### Are there any suspicious IP addresses?"
   ]
  },
  {
   "cell_type": "code",
   "execution_count": null,
   "id": "af2275a8",
   "metadata": {},
   "outputs": [],
   "source": []
  },
  {
   "cell_type": "code",
   "execution_count": null,
   "id": "d747a54c",
   "metadata": {},
   "outputs": [],
   "source": []
  },
  {
   "cell_type": "markdown",
   "id": "9648a3d8",
   "metadata": {},
   "source": [
    "### 5. At some point in 2019, the ability for students and alumni to access both curriculums (web dev to ds, ds to web dev) should have been shut off. \n",
    "\n",
    "### Do you see any evidence of that happening? Did it happen before?"
   ]
  },
  {
   "cell_type": "code",
   "execution_count": null,
   "id": "44592a2c",
   "metadata": {},
   "outputs": [],
   "source": []
  },
  {
   "cell_type": "code",
   "execution_count": null,
   "id": "a3a4ee3d",
   "metadata": {},
   "outputs": [],
   "source": []
  },
  {
   "cell_type": "markdown",
   "id": "3abc63e3",
   "metadata": {},
   "source": [
    "### 6. What topics are grads continuing to reference after graduation and into their jobs (for each program)?"
   ]
  },
  {
   "cell_type": "code",
   "execution_count": 8,
   "id": "9f09ee03",
   "metadata": {},
   "outputs": [],
   "source": [
    "java, php, data_sci, f_end = pp.filter_grads(df)"
   ]
  },
  {
   "cell_type": "code",
   "execution_count": 9,
   "id": "bd12f937",
   "metadata": {
    "collapsed": true
   },
   "outputs": [
    {
     "data": {
      "text/html": [
       "<div>\n",
       "<style scoped>\n",
       "    .dataframe tbody tr th:only-of-type {\n",
       "        vertical-align: middle;\n",
       "    }\n",
       "\n",
       "    .dataframe tbody tr th {\n",
       "        vertical-align: top;\n",
       "    }\n",
       "\n",
       "    .dataframe thead th {\n",
       "        text-align: right;\n",
       "    }\n",
       "</style>\n",
       "<table border=\"1\" class=\"dataframe\">\n",
       "  <thead>\n",
       "    <tr style=\"text-align: right;\">\n",
       "      <th></th>\n",
       "      <th>endpoint</th>\n",
       "      <th>user_id</th>\n",
       "      <th>cohort_id</th>\n",
       "      <th>cohort_name</th>\n",
       "      <th>slack</th>\n",
       "      <th>start_date</th>\n",
       "      <th>end_date</th>\n",
       "      <th>program_id</th>\n",
       "      <th>program</th>\n",
       "      <th>module</th>\n",
       "      <th>lesson</th>\n",
       "      <th>mask</th>\n",
       "    </tr>\n",
       "    <tr>\n",
       "      <th>datetime</th>\n",
       "      <th></th>\n",
       "      <th></th>\n",
       "      <th></th>\n",
       "      <th></th>\n",
       "      <th></th>\n",
       "      <th></th>\n",
       "      <th></th>\n",
       "      <th></th>\n",
       "      <th></th>\n",
       "      <th></th>\n",
       "      <th></th>\n",
       "      <th></th>\n",
       "    </tr>\n",
       "  </thead>\n",
       "  <tbody>\n",
       "    <tr>\n",
       "      <th>2018-01-26 11:36:38</th>\n",
       "      <td>javascript-i/functions</td>\n",
       "      <td>26.0</td>\n",
       "      <td>18.0</td>\n",
       "      <td>Pinnacles</td>\n",
       "      <td>#pinnacles</td>\n",
       "      <td>2017-03-27 00:00:00</td>\n",
       "      <td>2017-07-20 00:00:00</td>\n",
       "      <td>2.0</td>\n",
       "      <td>Full Stack Java</td>\n",
       "      <td>javascript-i</td>\n",
       "      <td>functions</td>\n",
       "      <td>True</td>\n",
       "    </tr>\n",
       "    <tr>\n",
       "      <th>2018-01-26 13:57:51</th>\n",
       "      <td>spring/extra-features/file-upload</td>\n",
       "      <td>40.0</td>\n",
       "      <td>16.0</td>\n",
       "      <td>Niagara</td>\n",
       "      <td>#niagara</td>\n",
       "      <td>2016-10-26 00:00:00</td>\n",
       "      <td>2017-03-09 00:00:00</td>\n",
       "      <td>2.0</td>\n",
       "      <td>Full Stack Java</td>\n",
       "      <td>spring</td>\n",
       "      <td>extra-features</td>\n",
       "      <td>True</td>\n",
       "    </tr>\n",
       "  </tbody>\n",
       "</table>\n",
       "</div>"
      ],
      "text/plain": [
       "                                              endpoint  user_id  cohort_id  \\\n",
       "datetime                                                                     \n",
       "2018-01-26 11:36:38             javascript-i/functions     26.0       18.0   \n",
       "2018-01-26 13:57:51  spring/extra-features/file-upload     40.0       16.0   \n",
       "\n",
       "                    cohort_name       slack           start_date  \\\n",
       "datetime                                                           \n",
       "2018-01-26 11:36:38   Pinnacles  #pinnacles  2017-03-27 00:00:00   \n",
       "2018-01-26 13:57:51     Niagara    #niagara  2016-10-26 00:00:00   \n",
       "\n",
       "                                end_date  program_id          program  \\\n",
       "datetime                                                                \n",
       "2018-01-26 11:36:38  2017-07-20 00:00:00         2.0  Full Stack Java   \n",
       "2018-01-26 13:57:51  2017-03-09 00:00:00         2.0  Full Stack Java   \n",
       "\n",
       "                           module          lesson  mask  \n",
       "datetime                                                 \n",
       "2018-01-26 11:36:38  javascript-i       functions  True  \n",
       "2018-01-26 13:57:51        spring  extra-features  True  "
      ]
     },
     "execution_count": 9,
     "metadata": {},
     "output_type": "execute_result"
    }
   ],
   "source": [
    "java.head(2)"
   ]
  },
  {
   "cell_type": "code",
   "execution_count": 10,
   "id": "36d99fdf",
   "metadata": {
    "collapsed": true
   },
   "outputs": [
    {
     "data": {
      "text/html": [
       "<div>\n",
       "<style scoped>\n",
       "    .dataframe tbody tr th:only-of-type {\n",
       "        vertical-align: middle;\n",
       "    }\n",
       "\n",
       "    .dataframe tbody tr th {\n",
       "        vertical-align: top;\n",
       "    }\n",
       "\n",
       "    .dataframe thead th {\n",
       "        text-align: right;\n",
       "    }\n",
       "</style>\n",
       "<table border=\"1\" class=\"dataframe\">\n",
       "  <thead>\n",
       "    <tr style=\"text-align: right;\">\n",
       "      <th></th>\n",
       "      <th>endpoint</th>\n",
       "      <th>user_id</th>\n",
       "      <th>cohort_id</th>\n",
       "      <th>cohort_name</th>\n",
       "      <th>slack</th>\n",
       "      <th>start_date</th>\n",
       "      <th>end_date</th>\n",
       "      <th>program_id</th>\n",
       "      <th>program</th>\n",
       "      <th>module</th>\n",
       "      <th>lesson</th>\n",
       "      <th>mask</th>\n",
       "    </tr>\n",
       "    <tr>\n",
       "      <th>datetime</th>\n",
       "      <th></th>\n",
       "      <th></th>\n",
       "      <th></th>\n",
       "      <th></th>\n",
       "      <th></th>\n",
       "      <th></th>\n",
       "      <th></th>\n",
       "      <th></th>\n",
       "      <th></th>\n",
       "      <th></th>\n",
       "      <th></th>\n",
       "      <th></th>\n",
       "    </tr>\n",
       "  </thead>\n",
       "  <tbody>\n",
       "    <tr>\n",
       "      <th>2018-01-26 09:56:05</th>\n",
       "      <td>java-ii/object-oriented-programming</td>\n",
       "      <td>1.0</td>\n",
       "      <td>8.0</td>\n",
       "      <td>Hampton</td>\n",
       "      <td>#hampton</td>\n",
       "      <td>2015-09-22 00:00:00</td>\n",
       "      <td>2016-02-06 00:00:00</td>\n",
       "      <td>1.0</td>\n",
       "      <td>Full Stack PHP</td>\n",
       "      <td>java-ii</td>\n",
       "      <td>object-oriented-programming</td>\n",
       "      <td>True</td>\n",
       "    </tr>\n",
       "    <tr>\n",
       "      <th>2018-01-26 09:56:06</th>\n",
       "      <td>slides/object_oriented_programming</td>\n",
       "      <td>1.0</td>\n",
       "      <td>8.0</td>\n",
       "      <td>Hampton</td>\n",
       "      <td>#hampton</td>\n",
       "      <td>2015-09-22 00:00:00</td>\n",
       "      <td>2016-02-06 00:00:00</td>\n",
       "      <td>1.0</td>\n",
       "      <td>Full Stack PHP</td>\n",
       "      <td>slides</td>\n",
       "      <td>object_oriented_programming</td>\n",
       "      <td>True</td>\n",
       "    </tr>\n",
       "  </tbody>\n",
       "</table>\n",
       "</div>"
      ],
      "text/plain": [
       "                                                endpoint  user_id  cohort_id  \\\n",
       "datetime                                                                       \n",
       "2018-01-26 09:56:05  java-ii/object-oriented-programming      1.0        8.0   \n",
       "2018-01-26 09:56:06   slides/object_oriented_programming      1.0        8.0   \n",
       "\n",
       "                    cohort_name     slack           start_date  \\\n",
       "datetime                                                         \n",
       "2018-01-26 09:56:05     Hampton  #hampton  2015-09-22 00:00:00   \n",
       "2018-01-26 09:56:06     Hampton  #hampton  2015-09-22 00:00:00   \n",
       "\n",
       "                                end_date  program_id         program   module  \\\n",
       "datetime                                                                        \n",
       "2018-01-26 09:56:05  2016-02-06 00:00:00         1.0  Full Stack PHP  java-ii   \n",
       "2018-01-26 09:56:06  2016-02-06 00:00:00         1.0  Full Stack PHP   slides   \n",
       "\n",
       "                                          lesson  mask  \n",
       "datetime                                                \n",
       "2018-01-26 09:56:05  object-oriented-programming  True  \n",
       "2018-01-26 09:56:06  object_oriented_programming  True  "
      ]
     },
     "execution_count": 10,
     "metadata": {},
     "output_type": "execute_result"
    }
   ],
   "source": [
    "php.head(2)"
   ]
  },
  {
   "cell_type": "code",
   "execution_count": 11,
   "id": "7dc65458",
   "metadata": {
    "collapsed": true
   },
   "outputs": [
    {
     "data": {
      "text/html": [
       "<div>\n",
       "<style scoped>\n",
       "    .dataframe tbody tr th:only-of-type {\n",
       "        vertical-align: middle;\n",
       "    }\n",
       "\n",
       "    .dataframe tbody tr th {\n",
       "        vertical-align: top;\n",
       "    }\n",
       "\n",
       "    .dataframe thead th {\n",
       "        text-align: right;\n",
       "    }\n",
       "</style>\n",
       "<table border=\"1\" class=\"dataframe\">\n",
       "  <thead>\n",
       "    <tr style=\"text-align: right;\">\n",
       "      <th></th>\n",
       "      <th>endpoint</th>\n",
       "      <th>user_id</th>\n",
       "      <th>cohort_id</th>\n",
       "      <th>cohort_name</th>\n",
       "      <th>slack</th>\n",
       "      <th>start_date</th>\n",
       "      <th>end_date</th>\n",
       "      <th>program_id</th>\n",
       "      <th>program</th>\n",
       "      <th>module</th>\n",
       "      <th>lesson</th>\n",
       "      <th>mask</th>\n",
       "    </tr>\n",
       "    <tr>\n",
       "      <th>datetime</th>\n",
       "      <th></th>\n",
       "      <th></th>\n",
       "      <th></th>\n",
       "      <th></th>\n",
       "      <th></th>\n",
       "      <th></th>\n",
       "      <th></th>\n",
       "      <th></th>\n",
       "      <th></th>\n",
       "      <th></th>\n",
       "      <th></th>\n",
       "      <th></th>\n",
       "    </tr>\n",
       "  </thead>\n",
       "  <tbody>\n",
       "    <tr>\n",
       "      <th>2020-01-30 08:01:31</th>\n",
       "      <td>1-fundamentals/1.1-intro-to-data-science</td>\n",
       "      <td>485.0</td>\n",
       "      <td>34.0</td>\n",
       "      <td>Bayes</td>\n",
       "      <td>#</td>\n",
       "      <td>2019-08-19 00:00:00</td>\n",
       "      <td>2020-01-30 00:00:00</td>\n",
       "      <td>3.0</td>\n",
       "      <td>Data Science</td>\n",
       "      <td>1-fundamentals</td>\n",
       "      <td>1.1-intro-to-data-science</td>\n",
       "      <td>True</td>\n",
       "    </tr>\n",
       "    <tr>\n",
       "      <th>2020-01-30 08:01:32</th>\n",
       "      <td>1-fundamentals/modern-data-scientist.jpg</td>\n",
       "      <td>485.0</td>\n",
       "      <td>34.0</td>\n",
       "      <td>Bayes</td>\n",
       "      <td>#</td>\n",
       "      <td>2019-08-19 00:00:00</td>\n",
       "      <td>2020-01-30 00:00:00</td>\n",
       "      <td>3.0</td>\n",
       "      <td>Data Science</td>\n",
       "      <td>1-fundamentals</td>\n",
       "      <td>modern-data-scientist.jpg</td>\n",
       "      <td>True</td>\n",
       "    </tr>\n",
       "  </tbody>\n",
       "</table>\n",
       "</div>"
      ],
      "text/plain": [
       "                                                     endpoint  user_id  \\\n",
       "datetime                                                                 \n",
       "2020-01-30 08:01:31  1-fundamentals/1.1-intro-to-data-science    485.0   \n",
       "2020-01-30 08:01:32  1-fundamentals/modern-data-scientist.jpg    485.0   \n",
       "\n",
       "                     cohort_id cohort_name slack           start_date  \\\n",
       "datetime                                                                \n",
       "2020-01-30 08:01:31       34.0       Bayes     #  2019-08-19 00:00:00   \n",
       "2020-01-30 08:01:32       34.0       Bayes     #  2019-08-19 00:00:00   \n",
       "\n",
       "                                end_date  program_id       program  \\\n",
       "datetime                                                             \n",
       "2020-01-30 08:01:31  2020-01-30 00:00:00         3.0  Data Science   \n",
       "2020-01-30 08:01:32  2020-01-30 00:00:00         3.0  Data Science   \n",
       "\n",
       "                             module                     lesson  mask  \n",
       "datetime                                                              \n",
       "2020-01-30 08:01:31  1-fundamentals  1.1-intro-to-data-science  True  \n",
       "2020-01-30 08:01:32  1-fundamentals  modern-data-scientist.jpg  True  "
      ]
     },
     "execution_count": 11,
     "metadata": {},
     "output_type": "execute_result"
    }
   ],
   "source": [
    "data_sci.head(2)"
   ]
  },
  {
   "cell_type": "code",
   "execution_count": 12,
   "id": "ec45ab15",
   "metadata": {
    "collapsed": true
   },
   "outputs": [
    {
     "data": {
      "text/html": [
       "<div>\n",
       "<style scoped>\n",
       "    .dataframe tbody tr th:only-of-type {\n",
       "        vertical-align: middle;\n",
       "    }\n",
       "\n",
       "    .dataframe tbody tr th {\n",
       "        vertical-align: top;\n",
       "    }\n",
       "\n",
       "    .dataframe thead th {\n",
       "        text-align: right;\n",
       "    }\n",
       "</style>\n",
       "<table border=\"1\" class=\"dataframe\">\n",
       "  <thead>\n",
       "    <tr style=\"text-align: right;\">\n",
       "      <th></th>\n",
       "      <th>endpoint</th>\n",
       "      <th>user_id</th>\n",
       "      <th>cohort_id</th>\n",
       "      <th>cohort_name</th>\n",
       "      <th>slack</th>\n",
       "      <th>start_date</th>\n",
       "      <th>end_date</th>\n",
       "      <th>program_id</th>\n",
       "      <th>program</th>\n",
       "      <th>module</th>\n",
       "      <th>lesson</th>\n",
       "      <th>mask</th>\n",
       "    </tr>\n",
       "    <tr>\n",
       "      <th>datetime</th>\n",
       "      <th></th>\n",
       "      <th></th>\n",
       "      <th></th>\n",
       "      <th></th>\n",
       "      <th></th>\n",
       "      <th></th>\n",
       "      <th></th>\n",
       "      <th></th>\n",
       "      <th></th>\n",
       "      <th></th>\n",
       "      <th></th>\n",
       "      <th></th>\n",
       "    </tr>\n",
       "  </thead>\n",
       "  <tbody>\n",
       "    <tr>\n",
       "      <th>2018-03-22 19:01:54</th>\n",
       "      <td>content/html-css</td>\n",
       "      <td>152.0</td>\n",
       "      <td>9.0</td>\n",
       "      <td>Apollo</td>\n",
       "      <td>#apollo</td>\n",
       "      <td>2015-03-30 00:00:00</td>\n",
       "      <td>2015-07-29 00:00:00</td>\n",
       "      <td>4.0</td>\n",
       "      <td>Front-End</td>\n",
       "      <td>content</td>\n",
       "      <td>html-css</td>\n",
       "      <td>True</td>\n",
       "    </tr>\n",
       "    <tr>\n",
       "      <th>2018-03-22 19:01:54</th>\n",
       "      <td>content/html-css/gitbook/images/favicon.ico</td>\n",
       "      <td>152.0</td>\n",
       "      <td>9.0</td>\n",
       "      <td>Apollo</td>\n",
       "      <td>#apollo</td>\n",
       "      <td>2015-03-30 00:00:00</td>\n",
       "      <td>2015-07-29 00:00:00</td>\n",
       "      <td>4.0</td>\n",
       "      <td>Front-End</td>\n",
       "      <td>content</td>\n",
       "      <td>html-css</td>\n",
       "      <td>True</td>\n",
       "    </tr>\n",
       "  </tbody>\n",
       "</table>\n",
       "</div>"
      ],
      "text/plain": [
       "                                                        endpoint  user_id  \\\n",
       "datetime                                                                    \n",
       "2018-03-22 19:01:54                             content/html-css    152.0   \n",
       "2018-03-22 19:01:54  content/html-css/gitbook/images/favicon.ico    152.0   \n",
       "\n",
       "                     cohort_id cohort_name    slack           start_date  \\\n",
       "datetime                                                                   \n",
       "2018-03-22 19:01:54        9.0      Apollo  #apollo  2015-03-30 00:00:00   \n",
       "2018-03-22 19:01:54        9.0      Apollo  #apollo  2015-03-30 00:00:00   \n",
       "\n",
       "                                end_date  program_id    program   module  \\\n",
       "datetime                                                                   \n",
       "2018-03-22 19:01:54  2015-07-29 00:00:00         4.0  Front-End  content   \n",
       "2018-03-22 19:01:54  2015-07-29 00:00:00         4.0  Front-End  content   \n",
       "\n",
       "                       lesson  mask  \n",
       "datetime                             \n",
       "2018-03-22 19:01:54  html-css  True  \n",
       "2018-03-22 19:01:54  html-css  True  "
      ]
     },
     "execution_count": 12,
     "metadata": {},
     "output_type": "execute_result"
    }
   ],
   "source": [
    "f_end.head(2)"
   ]
  },
  {
   "cell_type": "markdown",
   "id": "0fdf14ab",
   "metadata": {},
   "source": [
    "### There are 568 unique graduates by ID\n",
    "#### of those 568, 48 are staff\n",
    "#### staff was removed as it may bias the data\n",
    "\n",
    "\n",
    "| **Programs**    \t| **Top Module** \t| **Amount Accessed** \t| **Top Lessons**       \t| **Amount accessed** \t|\n",
    "|:-----------------\t|:----------------\t|:---------------------:\t|:-----------------------\t|:---------------------:\t|\n",
    "| Full Stack JAVA \t| Spring         \t|         7270        \t| Fundamentals          \t|         5400        \t|\n",
    "|                 \t| Javascrip      \t|         6725        \t| Introduction          \t|         2981        \t|\n",
    "|                 \t| HTML-CSS       \t|         4850        \t| Search_index.json     \t|         2370        \t|\n",
    "| Full Stack PHP  \t| Content        \t|         6397        \t| Fundamentals          \t|         1442        \t|\n",
    "|                 \t| Javascript-I   \t|         2972        \t| Laravel               \t|         1188        \t|\n",
    "|                 \t| HTML-CSS       \t|         1921        \t| Introduction          \t|         1156        \t|\n",
    "| Data Science    \t| Fundementals   \t|         1053        \t| Overview              \t|         674         \t|\n",
    "|                 \t| SQL            \t|         1046        \t| Search_index.json     \t|         493         \t|\n",
    "|                 \t| Classification \t|         1036        \t| AI-ML-DL-timeline.jpg \t|         316         \t|\n",
    "| Front End       \t| Content        \t|          4          \t| HTML-CSS              \t|          4          \t|"
   ]
  }
 ],
 "metadata": {
  "kernelspec": {
   "display_name": "Python 3.9.12 ('base')",
   "language": "python",
   "name": "python3"
  },
  "language_info": {
   "codemirror_mode": {
    "name": "ipython",
    "version": 3
   },
   "file_extension": ".py",
   "mimetype": "text/x-python",
   "name": "python",
   "nbconvert_exporter": "python",
   "pygments_lexer": "ipython3",
   "version": "3.9.12"
  },
  "vscode": {
   "interpreter": {
    "hash": "38cca0c38332a56087b24af0bc80247f4fced29cb4f7f437d91dc159adec9c4e"
   }
  }
 },
 "nbformat": 4,
 "nbformat_minor": 5
}
