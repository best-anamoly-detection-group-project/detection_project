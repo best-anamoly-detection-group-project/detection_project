{
 "cells": [
  {
   "cell_type": "code",
   "execution_count": 1,
   "id": "9f198e66",
   "metadata": {},
   "outputs": [
    {
     "name": "stderr",
     "output_type": "stream",
     "text": [
      "/usr/local/anaconda3/lib/python3.9/site-packages/scipy/__init__.py:146: UserWarning: A NumPy version >=1.16.5 and <1.23.0 is required for this version of SciPy (detected version 1.23.2\n",
      "  warnings.warn(f\"A NumPy version >={np_minversion} and <{np_maxversion}\"\n"
     ]
    }
   ],
   "source": [
    "import matplotlib.pyplot as plt\n",
    "import numpy as np\n",
    "import pandas as pd\n",
    "import seaborn as sns\n",
    "from sklearn import metrics\n",
    "from env import host, user, password, get_db_url\n",
    "import acquire\n",
    "pd.set_option('display.max_rows', None)\n",
    "import dtale\n",
    "import warnings\n",
    "warnings.filterwarnings('ignore')\n",
    "import datetime"
   ]
  },
  {
   "cell_type": "code",
   "execution_count": 2,
   "id": "966b3b96",
   "metadata": {},
   "outputs": [
    {
     "data": {
      "text/html": [
       "<div>\n",
       "<style scoped>\n",
       "    .dataframe tbody tr th:only-of-type {\n",
       "        vertical-align: middle;\n",
       "    }\n",
       "\n",
       "    .dataframe tbody tr th {\n",
       "        vertical-align: top;\n",
       "    }\n",
       "\n",
       "    .dataframe thead th {\n",
       "        text-align: right;\n",
       "    }\n",
       "</style>\n",
       "<table border=\"1\" class=\"dataframe\">\n",
       "  <thead>\n",
       "    <tr style=\"text-align: right;\">\n",
       "      <th></th>\n",
       "      <th>endpoint</th>\n",
       "      <th>user_id</th>\n",
       "      <th>cohort_id</th>\n",
       "      <th>cohort_name</th>\n",
       "      <th>slack</th>\n",
       "      <th>start_date</th>\n",
       "      <th>end_date</th>\n",
       "      <th>program_id</th>\n",
       "      <th>program</th>\n",
       "      <th>module</th>\n",
       "      <th>lesson</th>\n",
       "    </tr>\n",
       "    <tr>\n",
       "      <th>datetime</th>\n",
       "      <th></th>\n",
       "      <th></th>\n",
       "      <th></th>\n",
       "      <th></th>\n",
       "      <th></th>\n",
       "      <th></th>\n",
       "      <th></th>\n",
       "      <th></th>\n",
       "      <th></th>\n",
       "      <th></th>\n",
       "      <th></th>\n",
       "    </tr>\n",
       "  </thead>\n",
       "  <tbody>\n",
       "    <tr>\n",
       "      <th>2018-01-26 09:55:03</th>\n",
       "      <td>/</td>\n",
       "      <td>1</td>\n",
       "      <td>8.0</td>\n",
       "      <td>Hampton</td>\n",
       "      <td>#hampton</td>\n",
       "      <td>2015-09-22 00:00:00</td>\n",
       "      <td>2016-02-06 00:00:00</td>\n",
       "      <td>1</td>\n",
       "      <td>Full Stack PHP</td>\n",
       "      <td>None</td>\n",
       "      <td>None</td>\n",
       "    </tr>\n",
       "    <tr>\n",
       "      <th>2018-01-26 09:56:02</th>\n",
       "      <td>java-ii</td>\n",
       "      <td>1</td>\n",
       "      <td>8.0</td>\n",
       "      <td>Hampton</td>\n",
       "      <td>#hampton</td>\n",
       "      <td>2015-09-22 00:00:00</td>\n",
       "      <td>2016-02-06 00:00:00</td>\n",
       "      <td>1</td>\n",
       "      <td>Full Stack PHP</td>\n",
       "      <td>java-ii</td>\n",
       "      <td>None</td>\n",
       "    </tr>\n",
       "    <tr>\n",
       "      <th>2018-01-26 09:56:05</th>\n",
       "      <td>java-ii/object-oriented-programming</td>\n",
       "      <td>1</td>\n",
       "      <td>8.0</td>\n",
       "      <td>Hampton</td>\n",
       "      <td>#hampton</td>\n",
       "      <td>2015-09-22 00:00:00</td>\n",
       "      <td>2016-02-06 00:00:00</td>\n",
       "      <td>1</td>\n",
       "      <td>Full Stack PHP</td>\n",
       "      <td>java-ii</td>\n",
       "      <td>object-oriented-programming</td>\n",
       "    </tr>\n",
       "    <tr>\n",
       "      <th>2018-01-26 09:56:06</th>\n",
       "      <td>slides/object_oriented_programming</td>\n",
       "      <td>1</td>\n",
       "      <td>8.0</td>\n",
       "      <td>Hampton</td>\n",
       "      <td>#hampton</td>\n",
       "      <td>2015-09-22 00:00:00</td>\n",
       "      <td>2016-02-06 00:00:00</td>\n",
       "      <td>1</td>\n",
       "      <td>Full Stack PHP</td>\n",
       "      <td>slides</td>\n",
       "      <td>object_oriented_programming</td>\n",
       "    </tr>\n",
       "    <tr>\n",
       "      <th>2018-01-26 09:56:24</th>\n",
       "      <td>javascript-i/conditionals</td>\n",
       "      <td>2</td>\n",
       "      <td>22.0</td>\n",
       "      <td>Teddy</td>\n",
       "      <td>#teddy</td>\n",
       "      <td>2018-01-08 00:00:00</td>\n",
       "      <td>2018-05-17 00:00:00</td>\n",
       "      <td>2</td>\n",
       "      <td>Full Stack Java</td>\n",
       "      <td>javascript-i</td>\n",
       "      <td>conditionals</td>\n",
       "    </tr>\n",
       "  </tbody>\n",
       "</table>\n",
       "</div>"
      ],
      "text/plain": [
       "                                                endpoint  user_id  cohort_id  \\\n",
       "datetime                                                                       \n",
       "2018-01-26 09:55:03                                    /        1        8.0   \n",
       "2018-01-26 09:56:02                              java-ii        1        8.0   \n",
       "2018-01-26 09:56:05  java-ii/object-oriented-programming        1        8.0   \n",
       "2018-01-26 09:56:06   slides/object_oriented_programming        1        8.0   \n",
       "2018-01-26 09:56:24            javascript-i/conditionals        2       22.0   \n",
       "\n",
       "                    cohort_name     slack           start_date  \\\n",
       "datetime                                                         \n",
       "2018-01-26 09:55:03     Hampton  #hampton  2015-09-22 00:00:00   \n",
       "2018-01-26 09:56:02     Hampton  #hampton  2015-09-22 00:00:00   \n",
       "2018-01-26 09:56:05     Hampton  #hampton  2015-09-22 00:00:00   \n",
       "2018-01-26 09:56:06     Hampton  #hampton  2015-09-22 00:00:00   \n",
       "2018-01-26 09:56:24       Teddy    #teddy  2018-01-08 00:00:00   \n",
       "\n",
       "                                end_date  program_id          program  \\\n",
       "datetime                                                                \n",
       "2018-01-26 09:55:03  2016-02-06 00:00:00           1   Full Stack PHP   \n",
       "2018-01-26 09:56:02  2016-02-06 00:00:00           1   Full Stack PHP   \n",
       "2018-01-26 09:56:05  2016-02-06 00:00:00           1   Full Stack PHP   \n",
       "2018-01-26 09:56:06  2016-02-06 00:00:00           1   Full Stack PHP   \n",
       "2018-01-26 09:56:24  2018-05-17 00:00:00           2  Full Stack Java   \n",
       "\n",
       "                           module                       lesson  \n",
       "datetime                                                        \n",
       "2018-01-26 09:55:03          None                         None  \n",
       "2018-01-26 09:56:02       java-ii                         None  \n",
       "2018-01-26 09:56:05       java-ii  object-oriented-programming  \n",
       "2018-01-26 09:56:06        slides  object_oriented_programming  \n",
       "2018-01-26 09:56:24  javascript-i                 conditionals  "
      ]
     },
     "execution_count": 2,
     "metadata": {},
     "output_type": "execute_result"
    }
   ],
   "source": [
    "df = acquire.wrangle_data()\n",
    "df.head()"
   ]
  },
  {
   "cell_type": "code",
   "execution_count": null,
   "id": "a85f8f26",
   "metadata": {},
   "outputs": [],
   "source": [
    "df.shape"
   ]
  },
  {
   "cell_type": "markdown",
   "id": "7fcfcb4c",
   "metadata": {},
   "source": [
    "# 3. Are there students who, when active, hardly access the curriculum? If so, what information do you have about these students?"
   ]
  },
  {
   "cell_type": "code",
   "execution_count": 3,
   "id": "99a08f8c",
   "metadata": {},
   "outputs": [],
   "source": [
    "def filter_students(df):\n",
    "    \n",
    "    # remove staff by cohort name\n",
    "    std = df.where(df['cohort_name'] != 'Staff').dropna()\n",
    "    \n",
    "    # create mask to filter amount of times accessed to 10 or below\n",
    "    mask = std['user_id'].value_counts()\n",
    "    std10less = std[std['user_id'].isin(mask.index[mask<11])]\n",
    "    \n",
    "    # create mask to filter by times accessed when students were active\n",
    "    std10less['date_mask'] = std10less.index >= pd.Timestamp('2019-11-04')\n",
    "    std_final = std10less.mask(std10less['date_mask'] == False).dropna()\n",
    "    \n",
    "    # send it\n",
    "    return std_final"
   ]
  },
  {
   "cell_type": "markdown",
   "id": "e60a5f7a",
   "metadata": {},
   "source": [
    "# Takeaways at bottom; The rest is fluff and spaghetti"
   ]
  },
  {
   "cell_type": "code",
   "execution_count": 4,
   "id": "6f876714",
   "metadata": {},
   "outputs": [],
   "source": [
    "# remove staff from DF, only looking for students\n",
    "std = df.where(df['cohort_name'] != 'Staff').dropna()"
   ]
  },
  {
   "cell_type": "code",
   "execution_count": null,
   "id": "6e529732",
   "metadata": {},
   "outputs": [],
   "source": [
    "std = std.dropna()"
   ]
  },
  {
   "cell_type": "code",
   "execution_count": null,
   "id": "998c6aa0",
   "metadata": {},
   "outputs": [],
   "source": [
    "std.head()"
   ]
  },
  {
   "cell_type": "code",
   "execution_count": null,
   "id": "706ac51b",
   "metadata": {},
   "outputs": [],
   "source": [
    "df.shape"
   ]
  },
  {
   "cell_type": "code",
   "execution_count": null,
   "id": "32695a3b",
   "metadata": {},
   "outputs": [],
   "source": [
    "std.isnull().nunique()"
   ]
  },
  {
   "cell_type": "code",
   "execution_count": null,
   "id": "2813f603",
   "metadata": {},
   "outputs": [],
   "source": [
    "df.isnull().nunique()"
   ]
  },
  {
   "cell_type": "code",
   "execution_count": null,
   "id": "05e15057",
   "metadata": {},
   "outputs": [],
   "source": [
    "std.shape"
   ]
  },
  {
   "cell_type": "code",
   "execution_count": null,
   "id": "d4a870fa",
   "metadata": {},
   "outputs": [],
   "source": [
    "std.user_id.value_counts()"
   ]
  },
  {
   "cell_type": "code",
   "execution_count": null,
   "id": "66610820",
   "metadata": {},
   "outputs": [],
   "source": [
    "std2 = std2.dropna()"
   ]
  },
  {
   "cell_type": "code",
   "execution_count": null,
   "id": "5b954204",
   "metadata": {},
   "outputs": [],
   "source": [
    "std2.head()"
   ]
  },
  {
   "cell_type": "code",
   "execution_count": null,
   "id": "60745648",
   "metadata": {},
   "outputs": [],
   "source": [
    "id_df = pd.DataFrame(std.user_id.value_counts(dropna=False)).reset_index().\\\n",
    "                rename(columns={'index': 'user_id', 'user_id': 'count'})"
   ]
  },
  {
   "cell_type": "code",
   "execution_count": null,
   "id": "ab1a0b32",
   "metadata": {},
   "outputs": [],
   "source": [
    "id_df.head()"
   ]
  },
  {
   "cell_type": "code",
   "execution_count": null,
   "id": "3a8bf801",
   "metadata": {},
   "outputs": [],
   "source": [
    "id_df2 = pd.DataFrame((df.user_id.value_counts(dropna=False))/df.user_id.count()).reset_index().\\\n",
    "                rename(columns={'index': 'user_id', 'user_id': 'proba'})\n",
    "id_df2.head()"
   ]
  },
  {
   "cell_type": "code",
   "execution_count": null,
   "id": "46239925",
   "metadata": {},
   "outputs": [],
   "source": [
    "id_df = id_df.merge(id_df2, on='user_id')\n",
    "id_df.head()"
   ]
  },
  {
   "cell_type": "code",
   "execution_count": null,
   "id": "9336badc",
   "metadata": {},
   "outputs": [],
   "source": [
    "id_df.set_index('user_id')['count'].sort_values()"
   ]
  },
  {
   "cell_type": "code",
   "execution_count": null,
   "id": "67a0ea2b",
   "metadata": {},
   "outputs": [],
   "source": [
    "id_df.set_index('user_id')['count'].sort_values().tail(5).plot.barh(figsize=(5,5))"
   ]
  },
  {
   "cell_type": "code",
   "execution_count": null,
   "id": "3d3b6fec",
   "metadata": {},
   "outputs": [],
   "source": [
    "id_df.set_index('user_id')['count'].sort_values().plot.barh(figsize=(5,5))"
   ]
  },
  {
   "cell_type": "code",
   "execution_count": null,
   "id": "4620ccd8",
   "metadata": {
    "scrolled": true
   },
   "outputs": [],
   "source": [
    "dtale.show(std)"
   ]
  },
  {
   "cell_type": "code",
   "execution_count": null,
   "id": "68b51cd9",
   "metadata": {},
   "outputs": [],
   "source": [
    "# create a boolean mask to filter students who accessed the curiculum under \n",
    "# 10 times\n",
    "mask = std['user_id'].value_counts()\n",
    "std10less = std[std['user_id'].isin(mask.index[mask<11])]"
   ]
  },
  {
   "cell_type": "code",
   "execution_count": null,
   "id": "d1b10e89",
   "metadata": {
    "scrolled": true
   },
   "outputs": [],
   "source": [
    "std10less.head(211)"
   ]
  },
  {
   "cell_type": "code",
   "execution_count": null,
   "id": "6eec94a6",
   "metadata": {},
   "outputs": [],
   "source": [
    "std.head()"
   ]
  },
  {
   "cell_type": "code",
   "execution_count": null,
   "id": "69b9c635",
   "metadata": {},
   "outputs": [],
   "source": [
    "std10less.shape"
   ]
  },
  {
   "cell_type": "code",
   "execution_count": null,
   "id": "7dbb1ed8",
   "metadata": {},
   "outputs": [],
   "source": [
    "stdgrp = std10less.groupby(by= 'user_id', axis=0)"
   ]
  },
  {
   "cell_type": "code",
   "execution_count": null,
   "id": "7ec062e1",
   "metadata": {
    "scrolled": false
   },
   "outputs": [],
   "source": [
    "stdgrp.user_id.value_counts()"
   ]
  },
  {
   "cell_type": "code",
   "execution_count": null,
   "id": "6dbb23b7",
   "metadata": {
    "scrolled": true
   },
   "outputs": [],
   "source": [
    "stdgrp.head()"
   ]
  },
  {
   "cell_type": "code",
   "execution_count": null,
   "id": "c5315a40",
   "metadata": {},
   "outputs": [],
   "source": [
    "stdgrp.program.value_counts()"
   ]
  },
  {
   "cell_type": "code",
   "execution_count": null,
   "id": "3ff9dd94",
   "metadata": {},
   "outputs": [],
   "source": [
    "std10less['date_mask'] = std10less.index >= pd.Timestamp('2019-11-04')"
   ]
  },
  {
   "cell_type": "code",
   "execution_count": null,
   "id": "b7794323",
   "metadata": {},
   "outputs": [],
   "source": [
    "std_final = std10less.mask(std10less['date_mask'] == False).dropna()"
   ]
  },
  {
   "cell_type": "code",
   "execution_count": null,
   "id": "8fd8b5d9",
   "metadata": {
    "scrolled": true
   },
   "outputs": [],
   "source": [
    "std_final.head(31)"
   ]
  },
  {
   "cell_type": "code",
   "execution_count": null,
   "id": "c18d0e11",
   "metadata": {},
   "outputs": [],
   "source": [
    "std_final.user_id.value_counts()"
   ]
  },
  {
   "cell_type": "code",
   "execution_count": null,
   "id": "c19cfc3d",
   "metadata": {},
   "outputs": [],
   "source": [
    "std_final.program.value_counts()"
   ]
  },
  {
   "cell_type": "code",
   "execution_count": null,
   "id": "4865d0f3",
   "metadata": {},
   "outputs": [],
   "source": [
    "def filter_students(df):\n",
    "    \n",
    "    # remove staff by cohort name\n",
    "    std = df.where(df['cohort_name'] != 'Staff').dropna()\n",
    "    \n",
    "    # create mask to filter amount of times accessed to 10 or below\n",
    "    mask = std['user_id'].value_counts()\n",
    "    std10less = std[std['user_id'].isin(mask.index[mask<11])]\n",
    "    \n",
    "    # create mask to filter by times accessed when students were active\n",
    "    std10less['date_mask'] = std10less.index >= pd.Timestamp('2019-11-04')\n",
    "    std_final = std10less.mask(std10less['date_mask'] == False).dropna()\n",
    "    \n",
    "    # send it\n",
    "    return std_final"
   ]
  },
  {
   "cell_type": "code",
   "execution_count": 5,
   "id": "12b62172",
   "metadata": {},
   "outputs": [],
   "source": [
    "students = filter_students(df)"
   ]
  },
  {
   "cell_type": "code",
   "execution_count": 6,
   "id": "c3d44aa8",
   "metadata": {
    "scrolled": false
   },
   "outputs": [
    {
     "data": {
      "text/html": [
       "<div>\n",
       "<style scoped>\n",
       "    .dataframe tbody tr th:only-of-type {\n",
       "        vertical-align: middle;\n",
       "    }\n",
       "\n",
       "    .dataframe tbody tr th {\n",
       "        vertical-align: top;\n",
       "    }\n",
       "\n",
       "    .dataframe thead th {\n",
       "        text-align: right;\n",
       "    }\n",
       "</style>\n",
       "<table border=\"1\" class=\"dataframe\">\n",
       "  <thead>\n",
       "    <tr style=\"text-align: right;\">\n",
       "      <th></th>\n",
       "      <th>endpoint</th>\n",
       "      <th>user_id</th>\n",
       "      <th>cohort_id</th>\n",
       "      <th>cohort_name</th>\n",
       "      <th>slack</th>\n",
       "      <th>start_date</th>\n",
       "      <th>end_date</th>\n",
       "      <th>program_id</th>\n",
       "      <th>program</th>\n",
       "      <th>module</th>\n",
       "      <th>lesson</th>\n",
       "      <th>date_mask</th>\n",
       "    </tr>\n",
       "    <tr>\n",
       "      <th>datetime</th>\n",
       "      <th></th>\n",
       "      <th></th>\n",
       "      <th></th>\n",
       "      <th></th>\n",
       "      <th></th>\n",
       "      <th></th>\n",
       "      <th></th>\n",
       "      <th></th>\n",
       "      <th></th>\n",
       "      <th></th>\n",
       "      <th></th>\n",
       "      <th></th>\n",
       "    </tr>\n",
       "  </thead>\n",
       "  <tbody>\n",
       "    <tr>\n",
       "      <th>2019-11-04 16:54:38</th>\n",
       "      <td>html-css/introduction</td>\n",
       "      <td>539.0</td>\n",
       "      <td>52.0</td>\n",
       "      <td>Europa</td>\n",
       "      <td>#europa</td>\n",
       "      <td>2019-11-04 00:00:00</td>\n",
       "      <td>2020-04-17 00:00:00</td>\n",
       "      <td>2.0</td>\n",
       "      <td>Full Stack Java</td>\n",
       "      <td>html-css</td>\n",
       "      <td>introduction</td>\n",
       "      <td>True</td>\n",
       "    </tr>\n",
       "    <tr>\n",
       "      <th>2019-11-04 16:54:45</th>\n",
       "      <td>html-css/elements</td>\n",
       "      <td>539.0</td>\n",
       "      <td>52.0</td>\n",
       "      <td>Europa</td>\n",
       "      <td>#europa</td>\n",
       "      <td>2019-11-04 00:00:00</td>\n",
       "      <td>2020-04-17 00:00:00</td>\n",
       "      <td>2.0</td>\n",
       "      <td>Full Stack Java</td>\n",
       "      <td>html-css</td>\n",
       "      <td>elements</td>\n",
       "      <td>True</td>\n",
       "    </tr>\n",
       "    <tr>\n",
       "      <th>2020-01-14 16:02:54</th>\n",
       "      <td>html-css/introduction</td>\n",
       "      <td>572.0</td>\n",
       "      <td>53.0</td>\n",
       "      <td>Fortuna</td>\n",
       "      <td>#fortuna</td>\n",
       "      <td>2020-01-13 00:00:00</td>\n",
       "      <td>2020-06-23 00:00:00</td>\n",
       "      <td>2.0</td>\n",
       "      <td>Full Stack Java</td>\n",
       "      <td>html-css</td>\n",
       "      <td>introduction</td>\n",
       "      <td>True</td>\n",
       "    </tr>\n",
       "    <tr>\n",
       "      <th>2020-07-13 14:39:21</th>\n",
       "      <td>13-advanced-topics/1-tidy-data</td>\n",
       "      <td>679.0</td>\n",
       "      <td>59.0</td>\n",
       "      <td>Darden</td>\n",
       "      <td>#darden</td>\n",
       "      <td>2020-07-13 00:00:00</td>\n",
       "      <td>2021-01-12 00:00:00</td>\n",
       "      <td>3.0</td>\n",
       "      <td>Data Science</td>\n",
       "      <td>13-advanced-topics</td>\n",
       "      <td>1-tidy-data</td>\n",
       "      <td>True</td>\n",
       "    </tr>\n",
       "    <tr>\n",
       "      <th>2020-07-13 14:39:36</th>\n",
       "      <td>1-fundamentals/1.1-intro-to-data-science</td>\n",
       "      <td>679.0</td>\n",
       "      <td>59.0</td>\n",
       "      <td>Darden</td>\n",
       "      <td>#darden</td>\n",
       "      <td>2020-07-13 00:00:00</td>\n",
       "      <td>2021-01-12 00:00:00</td>\n",
       "      <td>3.0</td>\n",
       "      <td>Data Science</td>\n",
       "      <td>1-fundamentals</td>\n",
       "      <td>1.1-intro-to-data-science</td>\n",
       "      <td>True</td>\n",
       "    </tr>\n",
       "  </tbody>\n",
       "</table>\n",
       "</div>"
      ],
      "text/plain": [
       "                                                     endpoint  user_id  \\\n",
       "datetime                                                                 \n",
       "2019-11-04 16:54:38                     html-css/introduction    539.0   \n",
       "2019-11-04 16:54:45                         html-css/elements    539.0   \n",
       "2020-01-14 16:02:54                     html-css/introduction    572.0   \n",
       "2020-07-13 14:39:21            13-advanced-topics/1-tidy-data    679.0   \n",
       "2020-07-13 14:39:36  1-fundamentals/1.1-intro-to-data-science    679.0   \n",
       "\n",
       "                     cohort_id cohort_name     slack           start_date  \\\n",
       "datetime                                                                    \n",
       "2019-11-04 16:54:38       52.0      Europa   #europa  2019-11-04 00:00:00   \n",
       "2019-11-04 16:54:45       52.0      Europa   #europa  2019-11-04 00:00:00   \n",
       "2020-01-14 16:02:54       53.0     Fortuna  #fortuna  2020-01-13 00:00:00   \n",
       "2020-07-13 14:39:21       59.0      Darden   #darden  2020-07-13 00:00:00   \n",
       "2020-07-13 14:39:36       59.0      Darden   #darden  2020-07-13 00:00:00   \n",
       "\n",
       "                                end_date  program_id          program  \\\n",
       "datetime                                                                \n",
       "2019-11-04 16:54:38  2020-04-17 00:00:00         2.0  Full Stack Java   \n",
       "2019-11-04 16:54:45  2020-04-17 00:00:00         2.0  Full Stack Java   \n",
       "2020-01-14 16:02:54  2020-06-23 00:00:00         2.0  Full Stack Java   \n",
       "2020-07-13 14:39:21  2021-01-12 00:00:00         3.0     Data Science   \n",
       "2020-07-13 14:39:36  2021-01-12 00:00:00         3.0     Data Science   \n",
       "\n",
       "                                 module                     lesson date_mask  \n",
       "datetime                                                                      \n",
       "2019-11-04 16:54:38            html-css               introduction      True  \n",
       "2019-11-04 16:54:45            html-css                   elements      True  \n",
       "2020-01-14 16:02:54            html-css               introduction      True  \n",
       "2020-07-13 14:39:21  13-advanced-topics                1-tidy-data      True  \n",
       "2020-07-13 14:39:36      1-fundamentals  1.1-intro-to-data-science      True  "
      ]
     },
     "execution_count": 6,
     "metadata": {},
     "output_type": "execute_result"
    }
   ],
   "source": [
    "students.head()"
   ]
  },
  {
   "cell_type": "code",
   "execution_count": null,
   "id": "2fc548ac",
   "metadata": {},
   "outputs": [],
   "source": []
  },
  {
   "cell_type": "code",
   "execution_count": null,
   "id": "9f8be7cb",
   "metadata": {},
   "outputs": [],
   "source": [
    "students.user_id.value_counts()"
   ]
  },
  {
   "cell_type": "code",
   "execution_count": null,
   "id": "59fb227c",
   "metadata": {},
   "outputs": [],
   "source": [
    "students.cohort_name.value_counts()"
   ]
  },
  {
   "cell_type": "code",
   "execution_count": null,
   "id": "6196dc7e",
   "metadata": {},
   "outputs": [],
   "source": [
    "students.program.value_counts()"
   ]
  },
  {
   "cell_type": "code",
   "execution_count": null,
   "id": "be8fac58",
   "metadata": {},
   "outputs": [],
   "source": [
    "students.module.value_counts()"
   ]
  },
  {
   "cell_type": "code",
   "execution_count": null,
   "id": "57b0b4cd",
   "metadata": {},
   "outputs": [],
   "source": []
  },
  {
   "cell_type": "markdown",
   "id": "c30fc2a4",
   "metadata": {},
   "source": [
    "# Takeaways:\n",
    "   - 6 students respectively accessed the data less than 10 times while enrolled at codeup\n",
    "       - of those 6 students: - \n",
    "           - 1 was enrolled in Data Science\n",
    "           - 5 were enrolled in Full Stack Java\n",
    "       - the Data Science student accessed the curriculum 10 times\n",
    "       - the FS JAVA accessed the curriculum 20 times, with a median of 3\n",
    "   - the least accessed modules were: \n",
    "       - Data Science; advanced topics \n",
    "       - FS JAVA; appendix"
   ]
  },
  {
   "cell_type": "markdown",
   "id": "0e0987e2",
   "metadata": {},
   "source": [
    "# 4. Is there any suspicious activity, such as users/machines/etc accessing the curriculum who shouldn’t be? \n",
    "\n",
    "\n",
    "\n",
    "## Does it appear that any web-scraping is happening? \n",
    "\n",
    "## Are there any suspicious IP addresses?"
   ]
  },
  {
   "cell_type": "code",
   "execution_count": null,
   "id": "ebd8aada",
   "metadata": {},
   "outputs": [],
   "source": [
    "df.head()"
   ]
  },
  {
   "cell_type": "code",
   "execution_count": null,
   "id": "0c25b951",
   "metadata": {},
   "outputs": [],
   "source": []
  },
  {
   "cell_type": "code",
   "execution_count": null,
   "id": "b25bf1c6",
   "metadata": {},
   "outputs": [],
   "source": []
  },
  {
   "cell_type": "code",
   "execution_count": null,
   "id": "3a80042c",
   "metadata": {},
   "outputs": [],
   "source": []
  },
  {
   "cell_type": "code",
   "execution_count": null,
   "id": "05c8db15",
   "metadata": {},
   "outputs": [],
   "source": []
  },
  {
   "cell_type": "code",
   "execution_count": null,
   "id": "ce945dfd",
   "metadata": {},
   "outputs": [],
   "source": []
  },
  {
   "cell_type": "code",
   "execution_count": null,
   "id": "e672a34d",
   "metadata": {},
   "outputs": [],
   "source": []
  },
  {
   "cell_type": "code",
   "execution_count": null,
   "id": "f5c5eaf9",
   "metadata": {},
   "outputs": [],
   "source": []
  },
  {
   "cell_type": "code",
   "execution_count": null,
   "id": "cea26502",
   "metadata": {},
   "outputs": [],
   "source": []
  },
  {
   "cell_type": "code",
   "execution_count": null,
   "id": "347cf678",
   "metadata": {},
   "outputs": [],
   "source": []
  },
  {
   "cell_type": "code",
   "execution_count": null,
   "id": "ce07b03a",
   "metadata": {},
   "outputs": [],
   "source": []
  },
  {
   "cell_type": "code",
   "execution_count": null,
   "id": "2f2de8dd",
   "metadata": {},
   "outputs": [],
   "source": []
  },
  {
   "cell_type": "code",
   "execution_count": null,
   "id": "11526657",
   "metadata": {},
   "outputs": [],
   "source": []
  }
 ],
 "metadata": {
  "kernelspec": {
   "display_name": "Python 3 (ipykernel)",
   "language": "python",
   "name": "python3"
  },
  "language_info": {
   "codemirror_mode": {
    "name": "ipython",
    "version": 3
   },
   "file_extension": ".py",
   "mimetype": "text/x-python",
   "name": "python",
   "nbconvert_exporter": "python",
   "pygments_lexer": "ipython3",
   "version": "3.9.12"
  }
 },
 "nbformat": 4,
 "nbformat_minor": 5
}
